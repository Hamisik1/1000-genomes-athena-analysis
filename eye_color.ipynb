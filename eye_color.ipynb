{
 "cells": [
  {
   "cell_type": "code",
   "execution_count": null,
   "id": "5a706ae2-ae8e-4d73-90c1-3424bbda61a0",
   "metadata": {},
   "outputs": [],
   "source": [
    "## 🧬 SNP Focus: rs12913832 and Eye Color\n",
    "\n",
    "This SNP is strongly associated with blue vs brown eye color.  \n",
    "We explored its allele frequency across global populations using data from the 1000 Genomes Project.\n",
    "\n",
    "- **G allele** → blue eyes  \n",
    "- **A allele** → brown eyes\n",
    "\n",
    "Here’s how the G allele is distributed:\n",
    "\n",
    "\n",
    "import pandas as pd\n",
    "import matplotlib.pyplot as plt\n",
    "\n",
    "snp_data = {\n",
    "    'Population': ['AFR', 'EAS', 'AMR', 'EUR', 'SAS'],\n",
    "    'Allele Frequency': [0.028, 0.002, 0.2017, 0.6362, 0.0706]\n",
    "}\n",
    "\n",
    "df = pd.DataFrame(snp_data)\n",
    "\n",
    "plt.figure(figsize=(8, 5))\n",
    "plt.bar(df['Population'], df['Allele Frequency'], color='cornflowerblue')\n",
    "plt.title('Allele Frequency of rs12913832 Across Populations')\n",
    "plt.ylabel('Frequency')\n",
    "plt.ylim(0, 0.7)\n",
    "plt.grid(axis='y', linestyle='--', alpha=0.7)\n",
    "plt.tight_layout()\n",
    "plt.savefig(\"rs12913832_eye_color_snp.png\")\n",
    "plt.show()\n",
    "\n"
   ]
  }
 ],
 "metadata": {
  "kernelspec": {
   "display_name": "Python 3 (ipykernel)",
   "language": "python",
   "name": "python3"
  },
  "language_info": {
   "codemirror_mode": {
    "name": "ipython",
    "version": 3
   },
   "file_extension": ".py",
   "mimetype": "text/x-python",
   "name": "python",
   "nbconvert_exporter": "python",
   "pygments_lexer": "ipython3",
   "version": "3.10.13"
  }
 },
 "nbformat": 4,
 "nbformat_minor": 5
}
